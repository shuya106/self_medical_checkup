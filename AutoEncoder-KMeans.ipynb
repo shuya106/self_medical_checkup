{
 "cells": [
  {
   "cell_type": "markdown",
   "metadata": {},
   "source": [
    "# このノートブックについて\n",
    "\n",
    "autoencoderを用いて特徴抽出したものを、Kmeansを使ってクラスタリングする。  \n",
    "その結果を病気の診断に用いれるかを検討した。  "
   ]
  },
  {
   "cell_type": "markdown",
   "metadata": {},
   "source": [
    "# インポート+データ準備+モデルロード"
   ]
  },
  {
   "cell_type": "code",
   "execution_count": 64,
   "metadata": {},
   "outputs": [],
   "source": [
    "from Functions import process_img, get_labels\n",
    "import numpy as np\n",
    "import glob\n",
    "import matplotlib.pyplot as plt\n",
    "import pandas as pd\n",
    "\n",
    "from keras import backend as K\n",
    "from keras.layers import Dense, Flatten\n",
    "from keras.models import Sequential, load_model\n",
    "from keras.applications import VGG16\n",
    "from keras.optimizers import Adam\n",
    "\n",
    "from sklearn.metrics import confusion_matrix\n",
    "from sklearn.model_selection import train_test_split\n",
    "from sklearn.cluster import k_means"
   ]
  },
  {
   "cell_type": "code",
   "execution_count": 6,
   "metadata": {},
   "outputs": [
    {
     "name": "stdout",
     "output_type": "stream",
     "text": [
      "27\n",
      "40\n",
      "49\n",
      "(116, 224, 224, 3)\n",
      "(116, 3)\n"
     ]
    }
   ],
   "source": [
    "path1 = \"./dataset/data_reshape/image_onehand_reshape/N\"\n",
    "path2 = \"./dataset/data_reshape/image_onehand_reshape/H\"\n",
    "path3 = \"./dataset/data_reshape/image_onehand_reshape/R\"\n",
    "\n",
    "N_imgtri_list = glob.glob(path1 + \"/*\" + \".png\")\n",
    "print(len(N_imgtri_list))\n",
    "H_imgtri_list = glob.glob(path2 + \"/*\" + \".png\")\n",
    "print(len(H_imgtri_list))\n",
    "R_imgtri_list = glob.glob(path3 + \"/*\" + \".png\")\n",
    "print(len(R_imgtri_list))\n",
    "\n",
    "N_arr = process_img(N_imgtri_list)\n",
    "H_arr = process_img(H_imgtri_list)\n",
    "R_arr = process_img(R_imgtri_list)\n",
    "\n",
    "dataset = np.concatenate([N_arr, H_arr, R_arr], axis=0)\n",
    "print(dataset.shape)\n",
    "\n",
    "t = get_labels(27, 40, 49)\n",
    "print(t.shape)\n",
    "\n",
    "x_train, x_test, t_train, t_test = train_test_split(dataset, t, test_size=0.2)"
   ]
  },
  {
   "cell_type": "code",
   "execution_count": 14,
   "metadata": {},
   "outputs": [],
   "source": [
    "unet = load_model(\"./model/segmentation/unet_224_pred2.h5\")"
   ]
  },
  {
   "cell_type": "markdown",
   "metadata": {},
   "source": [
    "# 推定"
   ]
  },
  {
   "cell_type": "code",
   "execution_count": 32,
   "metadata": {},
   "outputs": [],
   "source": [
    "pred = unet.predict(dataset)"
   ]
  },
  {
   "cell_type": "code",
   "execution_count": 34,
   "metadata": {},
   "outputs": [
    {
     "data": {
      "text/plain": [
       "(116, 224, 224, 1)"
      ]
     },
     "execution_count": 34,
     "metadata": {},
     "output_type": "execute_result"
    }
   ],
   "source": [
    "pred.shape"
   ]
  },
  {
   "cell_type": "code",
   "execution_count": 63,
   "metadata": {},
   "outputs": [],
   "source": [
    "# kmeanでクラスタリングするため1dimにする\n",
    "pred_1dim = pred.reshape(116, -1)"
   ]
  },
  {
   "cell_type": "code",
   "execution_count": 36,
   "metadata": {},
   "outputs": [
    {
     "data": {
      "text/plain": [
       "(116, 50176)"
      ]
     },
     "execution_count": 36,
     "metadata": {},
     "output_type": "execute_result"
    }
   ],
   "source": [
    "pred_1dim.shape"
   ]
  },
  {
   "cell_type": "markdown",
   "metadata": {},
   "source": [
    "# クラスタリング"
   ]
  },
  {
   "cell_type": "code",
   "execution_count": 37,
   "metadata": {},
   "outputs": [],
   "source": [
    "# 2クラスター分類\n",
    "kmean = k_means(pred_1dim, n_clusters=2)"
   ]
  },
  {
   "cell_type": "code",
   "execution_count": 43,
   "metadata": {},
   "outputs": [],
   "source": [
    "# データの前半は正常、後半を病気としてそれぞれのクラスターを取り出す\n",
    "N_cluster = kmean[1][:27]\n",
    "Sick_cluster = kmean[1][28:]"
   ]
  },
  {
   "cell_type": "code",
   "execution_count": 56,
   "metadata": {},
   "outputs": [
    {
     "data": {
      "text/plain": [
       "21"
      ]
     },
     "execution_count": 56,
     "metadata": {},
     "output_type": "execute_result"
    }
   ],
   "source": [
    "# 正常データで２クラスター分類した結果から、正解しているものの数\n",
    "N_cluster_ok = np.sum(N_cluster == 0)\n",
    "N_cluster_ok"
   ]
  },
  {
   "cell_type": "code",
   "execution_count": 57,
   "metadata": {},
   "outputs": [
    {
     "data": {
      "text/plain": [
       "51"
      ]
     },
     "execution_count": 57,
     "metadata": {},
     "output_type": "execute_result"
    }
   ],
   "source": [
    "# 病気データで２クラスター分類した結果から、正解しているものの数\n",
    "Sick_cluster_ok = np.sum(Sick_cluster == 1)\n",
    "Sick_cluster_ok"
   ]
  },
  {
   "cell_type": "code",
   "execution_count": 65,
   "metadata": {},
   "outputs": [],
   "source": [
    "result_dict = {\"正常[予測]\": [21, 38], \"病気[予測]\": [6, 51]}"
   ]
  },
  {
   "cell_type": "code",
   "execution_count": 67,
   "metadata": {},
   "outputs": [
    {
     "data": {
      "text/html": [
       "<div>\n",
       "<style scoped>\n",
       "    .dataframe tbody tr th:only-of-type {\n",
       "        vertical-align: middle;\n",
       "    }\n",
       "\n",
       "    .dataframe tbody tr th {\n",
       "        vertical-align: top;\n",
       "    }\n",
       "\n",
       "    .dataframe thead th {\n",
       "        text-align: right;\n",
       "    }\n",
       "</style>\n",
       "<table border=\"1\" class=\"dataframe\">\n",
       "  <thead>\n",
       "    <tr style=\"text-align: right;\">\n",
       "      <th></th>\n",
       "      <th>正常[予測]</th>\n",
       "      <th>病気[予測]</th>\n",
       "    </tr>\n",
       "  </thead>\n",
       "  <tbody>\n",
       "    <tr>\n",
       "      <th>正常[実際]</th>\n",
       "      <td>21</td>\n",
       "      <td>6</td>\n",
       "    </tr>\n",
       "    <tr>\n",
       "      <th>病気[実際]</th>\n",
       "      <td>38</td>\n",
       "      <td>51</td>\n",
       "    </tr>\n",
       "  </tbody>\n",
       "</table>\n",
       "</div>"
      ],
      "text/plain": [
       "        正常[予測]  病気[予測]\n",
       "正常[実際]      21       6\n",
       "病気[実際]      38      51"
      ]
     },
     "execution_count": 67,
     "metadata": {},
     "output_type": "execute_result"
    }
   ],
   "source": [
    "conf = pd.DataFrame(result_dict, index = [\"正常[実際]\", \"病気[実際]\"])\n",
    "conf"
   ]
  },
  {
   "cell_type": "code",
   "execution_count": 70,
   "metadata": {},
   "outputs": [
    {
     "data": {
      "text/plain": [
       "0.6206896551724138"
      ]
     },
     "execution_count": 70,
     "metadata": {},
     "output_type": "execute_result"
    }
   ],
   "source": [
    "acc = (21 + 51) / pred_1dim.shape[0]\n",
    "acc"
   ]
  },
  {
   "cell_type": "markdown",
   "metadata": {},
   "source": [
    "# 考察\n",
    "\n",
    "正解率0.62であった。  \n",
    "精度が低いが、それよりも良くないのが予測正常で実際は病気である割合が問題だ。  \n",
    "使うことはできないだろう。"
   ]
  },
  {
   "cell_type": "code",
   "execution_count": null,
   "metadata": {},
   "outputs": [],
   "source": []
  }
 ],
 "metadata": {
  "kernelspec": {
   "display_name": "Python 3",
   "language": "python",
   "name": "python3"
  },
  "language_info": {
   "codemirror_mode": {
    "name": "ipython",
    "version": 3
   },
   "file_extension": ".py",
   "mimetype": "text/x-python",
   "name": "python",
   "nbconvert_exporter": "python",
   "pygments_lexer": "ipython3",
   "version": "3.7.3"
  },
  "toc": {
   "base_numbering": 1,
   "nav_menu": {},
   "number_sections": true,
   "sideBar": true,
   "skip_h1_title": false,
   "title_cell": "Table of Contents",
   "title_sidebar": "Contents",
   "toc_cell": false,
   "toc_position": {},
   "toc_section_display": true,
   "toc_window_display": false
  }
 },
 "nbformat": 4,
 "nbformat_minor": 2
}
