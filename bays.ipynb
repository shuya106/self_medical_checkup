{
 "cells": [
  {
   "cell_type": "markdown",
   "metadata": {},
   "source": [
    "# このノートブックについて\n",
    "\n",
    "predictした値をベイズ推定してみる"
   ]
  },
  {
   "cell_type": "markdown",
   "metadata": {},
   "source": [
    "# インポート"
   ]
  },
  {
   "cell_type": "code",
   "execution_count": 12,
   "metadata": {},
   "outputs": [],
   "source": [
    "import numpy as np\n",
    "import glob\n",
    "import cv2\n",
    "from keras.models import load_model\n",
    "\n",
    "from sklearn.metrics import confusion_matrix\n",
    "from sklearn.model_selection import train_test_split"
   ]
  },
  {
   "cell_type": "markdown",
   "metadata": {},
   "source": [
    "# 関数"
   ]
  },
  {
   "cell_type": "code",
   "execution_count": 9,
   "metadata": {},
   "outputs": [],
   "source": [
    "def process_img(img_list):\n",
    "\n",
    "    image_array = np.empty((0, 224,224,3))\n",
    "    for img_path in img_list:\n",
    "        img = cv2.imread(img_path)\n",
    "        img = cv2.resize(img, (224, 224))\n",
    "        img = cv2.cvtColor(img, cv2.COLOR_BGR2RGB)\n",
    "        img = img.reshape(1, 224, 224, 3)\n",
    "\n",
    "        image_array = np.concatenate([image_array, img], axis=0)\n",
    "\n",
    "    image_array /= 255\n",
    "    return image_array\n",
    "\n",
    "def get_labels(num_0, num_1, num_2):\n",
    "    t = np.concatenate([np.zeros(num_0), np.ones(num_1), np.ones(num_2) * 2]).astype(int)\n",
    "    t = np.identity(3)[t].astype(int)\n",
    "    return t"
   ]
  },
  {
   "cell_type": "markdown",
   "metadata": {},
   "source": [
    "# モデルのロード"
   ]
  },
  {
   "cell_type": "code",
   "execution_count": 10,
   "metadata": {},
   "outputs": [],
   "source": [
    "model = load_model(\"../model/img_rec/VGG19_pred.h5\")"
   ]
  },
  {
   "cell_type": "markdown",
   "metadata": {},
   "source": [
    "# データのロード"
   ]
  },
  {
   "cell_type": "code",
   "execution_count": 15,
   "metadata": {},
   "outputs": [
    {
     "name": "stdout",
     "output_type": "stream",
     "text": [
      "27\n",
      "40\n",
      "49\n",
      "(116, 224, 224, 3)\n",
      "(116, 3)\n"
     ]
    }
   ],
   "source": [
    "path1 = \"../dataset/data_reshape/image_onehand_reshape/N\"\n",
    "path2 =  \"../dataset/data_reshape/image_onehand_reshape/H\"\n",
    "path3 = \"../dataset/data_reshape/image_onehand_reshape/R\"\n",
    "N_imgtri_list = glob.glob(path1 + \"/*\" + \".png\")\n",
    "print(len(N_imgtri_list))\n",
    "H_imgtri_list = glob.glob(path2 + \"/*\" + \".png\")\n",
    "print(len(H_imgtri_list))\n",
    "R_imgtri_list = glob.glob(path3 + \"/*\" + \".png\")\n",
    "print(len(R_imgtri_list))\n",
    "N_arr = process_img(N_imgtri_list)\n",
    "H_arr = process_img(H_imgtri_list)\n",
    "R_arr = process_img(R_imgtri_list)\n",
    "x = np.concatenate([N_arr, H_arr, R_arr], axis=0)\n",
    "print(x.shape)\n",
    "t = get_labels(27, 40, 49)\n",
    "print(t.shape)\n",
    "x_train, x_test, t_train, t_test = train_test_split(x, t, test_size=0.2)"
   ]
  },
  {
   "cell_type": "markdown",
   "metadata": {},
   "source": [
    "# 推定"
   ]
  },
  {
   "cell_type": "code",
   "execution_count": 16,
   "metadata": {},
   "outputs": [],
   "source": [
    "y_pred = model.predict(x_test)"
   ]
  },
  {
   "cell_type": "markdown",
   "metadata": {},
   "source": [
    "# ベイス推定1\n",
    "\n",
    "Q,陽性と予測された人の中で、本当に病気である人の確率は?\n",
    "\n",
    "前提：へバーデン結節と関節リウマチを合わせて「罹患」として、まとめる。"
   ]
  },
  {
   "cell_type": "code",
   "execution_count": 26,
   "metadata": {
    "scrolled": true
   },
   "outputs": [
    {
     "data": {
      "text/plain": [
       "array([[ 5,  0,  0],\n",
       "       [ 0,  8,  1],\n",
       "       [ 0,  0, 10]])"
      ]
     },
     "execution_count": 26,
     "metadata": {},
     "output_type": "execute_result"
    }
   ],
   "source": [
    "# 予測値の混同行列\n",
    "conf = confusion_matrix(np.argmax(t_test, axis=1), np.argmax(y_pred, axis=1))\n",
    "conf"
   ]
  },
  {
   "cell_type": "markdown",
   "metadata": {},
   "source": [
    "## へバーデン結節と関節リウマチをまとめた行列を作成"
   ]
  },
  {
   "cell_type": "code",
   "execution_count": 19,
   "metadata": {},
   "outputs": [],
   "source": [
    "a = np.sum(conf[1:, 0], axis=0)\n",
    "b = np.sum(conf[0, 1:], axis=0)\n",
    "c = np.sum(conf[1:, :], axis=0)\n",
    "c = np.sum(c[1:])"
   ]
  },
  {
   "cell_type": "code",
   "execution_count": 20,
   "metadata": {},
   "outputs": [
    {
     "data": {
      "text/plain": [
       "array([[ 5,  0],\n",
       "       [ 0, 19]])"
      ]
     },
     "execution_count": 20,
     "metadata": {},
     "output_type": "execute_result"
    }
   ],
   "source": [
    "bays_mat = np.empty((2,2))\n",
    "bays_mat[0, 0] = conf[0, 0]\n",
    "bays_mat[1, 0] = a\n",
    "bays_mat[0, 1] = b\n",
    "bays_mat[1, 1] = c\n",
    "bays_mat = bays_mat.astype(int)\n",
    "bays_mat"
   ]
  },
  {
   "cell_type": "markdown",
   "metadata": {},
   "source": [
    "## ベイズ推定に必要な確率を算出"
   ]
  },
  {
   "cell_type": "code",
   "execution_count": 27,
   "metadata": {},
   "outputs": [],
   "source": [
    "# P(陽性|罹患)\n",
    "a_ = bays_mat[0, 0] / np.sum(bays_mat[0])\n",
    "\n",
    "# 事前分布\n",
    "pre_prob = (H_arr.shape[0] + R_arr.shape[0]) / (N_arr.shape[0] + H_arr.shape[0] + R_arr.shape[0])\n",
    "pre_prob = round(pre_prob, 2)\n",
    "\n",
    "# P(陽性|非罹患)\n",
    "b_ = bays_mat[1, 0] / np.sum(bays_mat[1])\n",
    "\n",
    "# P(陽性)\n",
    "pre_plus = pre_prob * a_ + (1 - pre_prob) * b_"
   ]
  },
  {
   "cell_type": "markdown",
   "metadata": {},
   "source": [
    "## 結果"
   ]
  },
  {
   "cell_type": "code",
   "execution_count": 32,
   "metadata": {},
   "outputs": [
    {
     "name": "stdout",
     "output_type": "stream",
     "text": [
      "result:1.0\n",
      "result(%):100\n"
     ]
    }
   ],
   "source": [
    "result = (a_ * pre_prob) / pre_plus\n",
    "print(\"result:\", result, sep=\"\")\n",
    "\n",
    "result_per = round(result, 2)\n",
    "result_per = result_per*100\n",
    "print(\"result(%):\", result_per.astype(int), sep=\"\")"
   ]
  },
  {
   "cell_type": "markdown",
   "metadata": {},
   "source": [
    "## 結論\n",
    "\n",
    "A, 陽性と予測された人の中で、本当に病気である人の確率は**100%**"
   ]
  },
  {
   "cell_type": "markdown",
   "metadata": {},
   "source": [
    "# ベイズ推定２\n",
    "\n",
    "Q,陰性と予測された人の中で、実は病気である人の確率は?\n",
    "\n",
    "前提：上記と同じ"
   ]
  },
  {
   "cell_type": "markdown",
   "metadata": {},
   "source": [
    "## ベイズ推定に必要な確率を算出"
   ]
  },
  {
   "cell_type": "code",
   "execution_count": 33,
   "metadata": {},
   "outputs": [],
   "source": [
    "# P(陰性|罹患)\n",
    "a_ = bays_mat[0, 1] / np.sum(bays_mat[0])\n",
    "\n",
    "# 事前分布\n",
    "pre_prob = (H_arr.shape[0] + R_arr.shape[0]) / (N_arr.shape[0] + H_arr.shape[0] + R_arr.shape[0])\n",
    "pre_prob = round(pre_prob, 2)\n",
    "\n",
    "# P(陰性|非罹患)\n",
    "b_ = bays_mat[1, 1] / np.sum(bays_mat[1])\n",
    "\n",
    "# P(陰性)\n",
    "pre_plus = pre_prob * a_ + (1 - pre_prob) * b_"
   ]
  },
  {
   "cell_type": "markdown",
   "metadata": {},
   "source": [
    "## 結果"
   ]
  },
  {
   "cell_type": "code",
   "execution_count": 34,
   "metadata": {},
   "outputs": [
    {
     "name": "stdout",
     "output_type": "stream",
     "text": [
      "result:0.0\n",
      "result(%):0\n"
     ]
    }
   ],
   "source": [
    "result = (a_ * pre_prob) / pre_plus\n",
    "print(\"result:\", result, sep=\"\")\n",
    "\n",
    "result_per = round(result, 2)\n",
    "result_per = result_per*100\n",
    "print(\"result(%):\", result_per.astype(int), sep=\"\")"
   ]
  },
  {
   "cell_type": "markdown",
   "metadata": {},
   "source": [
    "# 考察"
   ]
  },
  {
   "cell_type": "markdown",
   "metadata": {},
   "source": [
    "非常に高い値が出たが、実際は非現実的である。  \n",
    "データが少ないことと、それに伴う事前分布が高すぎる事によるものと考えられる。  \n",
    "実際に分析するときはもっと慎重になる必要がある。"
   ]
  },
  {
   "cell_type": "code",
   "execution_count": null,
   "metadata": {},
   "outputs": [],
   "source": []
  }
 ],
 "metadata": {
  "kernelspec": {
   "display_name": "Python 3",
   "language": "python",
   "name": "python3"
  },
  "language_info": {
   "codemirror_mode": {
    "name": "ipython",
    "version": 3
   },
   "file_extension": ".py",
   "mimetype": "text/x-python",
   "name": "python",
   "nbconvert_exporter": "python",
   "pygments_lexer": "ipython3",
   "version": "3.7.3"
  },
  "toc": {
   "base_numbering": 1,
   "nav_menu": {},
   "number_sections": true,
   "sideBar": true,
   "skip_h1_title": false,
   "title_cell": "Table of Contents",
   "title_sidebar": "Contents",
   "toc_cell": false,
   "toc_position": {},
   "toc_section_display": true,
   "toc_window_display": false
  }
 },
 "nbformat": 4,
 "nbformat_minor": 2
}
